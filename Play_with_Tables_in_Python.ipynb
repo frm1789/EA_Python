{
  "nbformat": 4,
  "nbformat_minor": 0,
  "metadata": {
    "colab": {
      "provenance": [],
      "authorship_tag": "ABX9TyN+hGra8UeNOxKyZn6kN2uO"
    },
    "kernelspec": {
      "name": "python3",
      "display_name": "Python 3"
    },
    "language_info": {
      "name": "python"
    }
  },
  "cells": [
    {
      "cell_type": "code",
      "execution_count": 1,
      "metadata": {
        "id": "SFdIinc_3W1_"
      },
      "outputs": [],
      "source": [
        "from tabulate import tabulate"
      ]
    },
    {
      "cell_type": "code",
      "source": [
        "table = [['Name', 'Last Name', 'Zip Code'], \n",
        "         ['John', 'Doe', 60202], \n",
        "         ['Jane', 'Doe', 60201], \n",
        "         ['Mary', 'Doe', 60625]]"
      ],
      "metadata": {
        "id": "Q8SnN4ci3evZ"
      },
      "execution_count": 2,
      "outputs": []
    },
    {
      "cell_type": "code",
      "source": [
        "type(table)"
      ],
      "metadata": {
        "colab": {
          "base_uri": "https://localhost:8080/"
        },
        "id": "cMpwuDhF324g",
        "outputId": "2912fa98-9edf-49c9-e475-2d15e1053a59"
      },
      "execution_count": 5,
      "outputs": [
        {
          "output_type": "execute_result",
          "data": {
            "text/plain": [
              "list"
            ]
          },
          "metadata": {},
          "execution_count": 5
        }
      ]
    },
    {
      "cell_type": "code",
      "source": [
        "print(tabulate(table, headers='firstrow', tablefmt='fancy_grid'))"
      ],
      "metadata": {
        "colab": {
          "base_uri": "https://localhost:8080/"
        },
        "id": "LzcQ95P-3x3s",
        "outputId": "4ec6cf32-6fce-441c-e345-98dd6f9ab420"
      },
      "execution_count": 3,
      "outputs": [
        {
          "output_type": "stream",
          "name": "stdout",
          "text": [
            "╒════════╤═════════════╤════════════╕\n",
            "│ Name   │ Last Name   │   Zip Code │\n",
            "╞════════╪═════════════╪════════════╡\n",
            "│ John   │ Doe         │      60202 │\n",
            "├────────┼─────────────┼────────────┤\n",
            "│ Jane   │ Doe         │      60201 │\n",
            "├────────┼─────────────┼────────────┤\n",
            "│ Mary   │ Doe         │      60625 │\n",
            "╘════════╧═════════════╧════════════╛\n"
          ]
        }
      ]
    },
    {
      "cell_type": "code",
      "source": [],
      "metadata": {
        "id": "0K2MfR3j4NvA"
      },
      "execution_count": null,
      "outputs": []
    }
  ]
}