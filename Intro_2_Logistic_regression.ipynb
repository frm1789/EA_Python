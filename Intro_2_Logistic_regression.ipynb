{
  "nbformat": 4,
  "nbformat_minor": 0,
  "metadata": {
    "colab": {
      "name": "Intro_2_Logistic_regression.ipynb",
      "version": "0.3.2",
      "provenance": [],
      "include_colab_link": true
    },
    "kernelspec": {
      "name": "python3",
      "display_name": "Python 3"
    }
  },
  "cells": [
    {
      "cell_type": "markdown",
      "metadata": {
        "id": "view-in-github",
        "colab_type": "text"
      },
      "source": [
        "[View in Colaboratory](https://colab.research.google.com/github/frm1789/EA_Python/blob/master/Intro_2_Logistic_regression.ipynb)"
      ]
    },
    {
      "metadata": {
        "id": "PabmRDORJj3j",
        "colab_type": "text"
      },
      "cell_type": "markdown",
      "source": [
        "# Logistic Regression in Python Using Rodeo"
      ]
    },
    {
      "metadata": {
        "id": "YiUDYIv_LZ_i",
        "colab_type": "text"
      },
      "cell_type": "markdown",
      "source": [
        "Regresion es una tecnica capaz de predecir un salida binaria. \n",
        "\n",
        "Librerias:\n",
        "\n",
        "*   **Numpy**: numerical arrays and matrix.\n",
        "*   **Pandas**: handle and operate on data.\n",
        "*   **statsmodels**: tools para estimacion de parametros y testing estadistico.\n",
        "*   **pylab**: para generar plots"
      ]
    },
    {
      "metadata": {
        "id": "nAiZU_dzPMwS",
        "colab_type": "code",
        "colab": {}
      },
      "cell_type": "code",
      "source": [
        "import pandas as pd\n",
        "import statsmodels.api as sm\n",
        "import pylab as pl\n",
        "import numpy as np"
      ],
      "execution_count": 0,
      "outputs": []
    },
    {
      "metadata": {
        "id": "hFlpEzqyPSw0",
        "colab_type": "text"
      },
      "cell_type": "markdown",
      "source": [
        "# Reading the data\n",
        "\n",
        "1. This dataset has a binary response (outcome, dependent) variable called 'admit' (1: admitted, 0: Not). \n",
        "    \n",
        "2. There are three predictor variables: 'gre', 'gpa' and 'rank'. I will treat the variables 'gre' and 'gpa' as continuous. \n",
        "    \n",
        "3. The variable 'rank' takes on the values 1 through 4. Institutions with a rank of 1 have the highest prestige, while those with a rank of 4 have the lowest.\n",
        "   "
      ]
    },
    {
      "metadata": {
        "id": "GT92rmx9PUJL",
        "colab_type": "code",
        "colab": {
          "base_uri": "https://localhost:8080/",
          "height": 204
        },
        "outputId": "8d070a71-a068-45f2-fc34-3ccaa9f34027"
      },
      "cell_type": "code",
      "source": [
        "import io\n",
        "import requests\n",
        "data= pd.read_csv(\"https://raw.githubusercontent.com/frm1789/EA_Python/master/binary.csv\")\n",
        "\n",
        "data.head()"
      ],
      "execution_count": 21,
      "outputs": [
        {
          "output_type": "execute_result",
          "data": {
            "text/html": [
              "<div>\n",
              "<style scoped>\n",
              "    .dataframe tbody tr th:only-of-type {\n",
              "        vertical-align: middle;\n",
              "    }\n",
              "\n",
              "    .dataframe tbody tr th {\n",
              "        vertical-align: top;\n",
              "    }\n",
              "\n",
              "    .dataframe thead th {\n",
              "        text-align: right;\n",
              "    }\n",
              "</style>\n",
              "<table border=\"1\" class=\"dataframe\">\n",
              "  <thead>\n",
              "    <tr style=\"text-align: right;\">\n",
              "      <th></th>\n",
              "      <th>admit</th>\n",
              "      <th>gre</th>\n",
              "      <th>gpa</th>\n",
              "      <th>rank</th>\n",
              "    </tr>\n",
              "  </thead>\n",
              "  <tbody>\n",
              "    <tr>\n",
              "      <th>0</th>\n",
              "      <td>0</td>\n",
              "      <td>380</td>\n",
              "      <td>3.61</td>\n",
              "      <td>3</td>\n",
              "    </tr>\n",
              "    <tr>\n",
              "      <th>1</th>\n",
              "      <td>1</td>\n",
              "      <td>660</td>\n",
              "      <td>3.67</td>\n",
              "      <td>3</td>\n",
              "    </tr>\n",
              "    <tr>\n",
              "      <th>2</th>\n",
              "      <td>1</td>\n",
              "      <td>800</td>\n",
              "      <td>4.00</td>\n",
              "      <td>1</td>\n",
              "    </tr>\n",
              "    <tr>\n",
              "      <th>3</th>\n",
              "      <td>1</td>\n",
              "      <td>640</td>\n",
              "      <td>3.19</td>\n",
              "      <td>4</td>\n",
              "    </tr>\n",
              "    <tr>\n",
              "      <th>4</th>\n",
              "      <td>0</td>\n",
              "      <td>520</td>\n",
              "      <td>2.93</td>\n",
              "      <td>4</td>\n",
              "    </tr>\n",
              "  </tbody>\n",
              "</table>\n",
              "</div>"
            ],
            "text/plain": [
              "   admit  gre   gpa  rank\n",
              "0      0  380  3.61     3\n",
              "1      1  660  3.67     3\n",
              "2      1  800  4.00     1\n",
              "3      1  640  3.19     4\n",
              "4      0  520  2.93     4"
            ]
          },
          "metadata": {
            "tags": []
          },
          "execution_count": 21
        }
      ]
    },
    {
      "metadata": {
        "id": "1_MNB59nWUgd",
        "colab_type": "text"
      },
      "cell_type": "markdown",
      "source": [
        "Rename the columns because rank is a reserved word, we will change it for < prestige >."
      ]
    },
    {
      "metadata": {
        "id": "jE5-JsI-WdsM",
        "colab_type": "code",
        "colab": {}
      },
      "cell_type": "code",
      "source": [
        "data.columns = [\"admit\", \"gre\", \"gpa\", \"prestige\"]"
      ],
      "execution_count": 0,
      "outputs": []
    },
    {
      "metadata": {
        "id": "IiuVcSj0WnjW",
        "colab_type": "text"
      },
      "cell_type": "markdown",
      "source": [
        "# Exploring the dataset"
      ]
    },
    {
      "metadata": {
        "id": "V_p_GhD6WpGZ",
        "colab_type": "text"
      },
      "cell_type": "markdown",
      "source": [
        ""
      ]
    },
    {
      "metadata": {
        "id": "AZbmbnqiWqei",
        "colab_type": "code",
        "colab": {
          "base_uri": "https://localhost:8080/",
          "height": 297
        },
        "outputId": "76a6c330-55ad-45f9-b536-38d198f985cf"
      },
      "cell_type": "code",
      "source": [
        "data.describe()"
      ],
      "execution_count": 23,
      "outputs": [
        {
          "output_type": "execute_result",
          "data": {
            "text/html": [
              "<div>\n",
              "<style scoped>\n",
              "    .dataframe tbody tr th:only-of-type {\n",
              "        vertical-align: middle;\n",
              "    }\n",
              "\n",
              "    .dataframe tbody tr th {\n",
              "        vertical-align: top;\n",
              "    }\n",
              "\n",
              "    .dataframe thead th {\n",
              "        text-align: right;\n",
              "    }\n",
              "</style>\n",
              "<table border=\"1\" class=\"dataframe\">\n",
              "  <thead>\n",
              "    <tr style=\"text-align: right;\">\n",
              "      <th></th>\n",
              "      <th>admit</th>\n",
              "      <th>gre</th>\n",
              "      <th>gpa</th>\n",
              "      <th>prestige</th>\n",
              "    </tr>\n",
              "  </thead>\n",
              "  <tbody>\n",
              "    <tr>\n",
              "      <th>count</th>\n",
              "      <td>400.000000</td>\n",
              "      <td>400.000000</td>\n",
              "      <td>400.000000</td>\n",
              "      <td>400.00000</td>\n",
              "    </tr>\n",
              "    <tr>\n",
              "      <th>mean</th>\n",
              "      <td>0.317500</td>\n",
              "      <td>587.700000</td>\n",
              "      <td>3.389900</td>\n",
              "      <td>2.48500</td>\n",
              "    </tr>\n",
              "    <tr>\n",
              "      <th>std</th>\n",
              "      <td>0.466087</td>\n",
              "      <td>115.516536</td>\n",
              "      <td>0.380567</td>\n",
              "      <td>0.94446</td>\n",
              "    </tr>\n",
              "    <tr>\n",
              "      <th>min</th>\n",
              "      <td>0.000000</td>\n",
              "      <td>220.000000</td>\n",
              "      <td>2.260000</td>\n",
              "      <td>1.00000</td>\n",
              "    </tr>\n",
              "    <tr>\n",
              "      <th>25%</th>\n",
              "      <td>0.000000</td>\n",
              "      <td>520.000000</td>\n",
              "      <td>3.130000</td>\n",
              "      <td>2.00000</td>\n",
              "    </tr>\n",
              "    <tr>\n",
              "      <th>50%</th>\n",
              "      <td>0.000000</td>\n",
              "      <td>580.000000</td>\n",
              "      <td>3.395000</td>\n",
              "      <td>2.00000</td>\n",
              "    </tr>\n",
              "    <tr>\n",
              "      <th>75%</th>\n",
              "      <td>1.000000</td>\n",
              "      <td>660.000000</td>\n",
              "      <td>3.670000</td>\n",
              "      <td>3.00000</td>\n",
              "    </tr>\n",
              "    <tr>\n",
              "      <th>max</th>\n",
              "      <td>1.000000</td>\n",
              "      <td>800.000000</td>\n",
              "      <td>4.000000</td>\n",
              "      <td>4.00000</td>\n",
              "    </tr>\n",
              "  </tbody>\n",
              "</table>\n",
              "</div>"
            ],
            "text/plain": [
              "            admit         gre         gpa   prestige\n",
              "count  400.000000  400.000000  400.000000  400.00000\n",
              "mean     0.317500  587.700000    3.389900    2.48500\n",
              "std      0.466087  115.516536    0.380567    0.94446\n",
              "min      0.000000  220.000000    2.260000    1.00000\n",
              "25%      0.000000  520.000000    3.130000    2.00000\n",
              "50%      0.000000  580.000000    3.395000    2.00000\n",
              "75%      1.000000  660.000000    3.670000    3.00000\n",
              "max      1.000000  800.000000    4.000000    4.00000"
            ]
          },
          "metadata": {
            "tags": []
          },
          "execution_count": 23
        }
      ]
    },
    {
      "metadata": {
        "id": "S3nJZlq8W-_8",
        "colab_type": "code",
        "colab": {
          "base_uri": "https://localhost:8080/",
          "height": 447
        },
        "outputId": "24bf8417-dd59-4349-dc2d-950102c4ea45"
      },
      "cell_type": "code",
      "source": [
        "data.hist()"
      ],
      "execution_count": 24,
      "outputs": [
        {
          "output_type": "execute_result",
          "data": {
            "text/plain": [
              "array([[<matplotlib.axes._subplots.AxesSubplot object at 0x7fa2f72c3550>,\n",
              "        <matplotlib.axes._subplots.AxesSubplot object at 0x7fa2f72ed518>],\n",
              "       [<matplotlib.axes._subplots.AxesSubplot object at 0x7fa2f72a75f8>,\n",
              "        <matplotlib.axes._subplots.AxesSubplot object at 0x7fa2f725e6d8>]],\n",
              "      dtype=object)"
            ]
          },
          "metadata": {
            "tags": []
          },
          "execution_count": 24
        },
        {
          "output_type": "display_data",
          "data": {
            "image/png": "[encoded data removed]",
            "text/plain": [
              "<matplotlib.figure.Figure at 0x7fa2f9bd9208>"
            ]
          },
          "metadata": {
            "tags": []
          }
        }
      ]
    },
    {
      "metadata": {
        "id": "XaSJ9qpXXTOn",
        "colab_type": "text"
      },
      "cell_type": "markdown",
      "source": [
        "# Dummy variables"
      ]
    },
    {
      "metadata": {
        "id": "IA37jx08XUWH",
        "colab_type": "text"
      },
      "cell_type": "markdown",
      "source": [
        "We're going dummify the \"prestige\" column using get_dummies.\n",
        "\n",
        "get_dummies creates a new DataFrame with binary indicator variables for each category/option in the column specified. In this case, prestige has four levels: 1, 2, 3 and 4 (1 being most prestigious). When we call get_dummies, we get a dataframe with four columns, each of which describes one of those levels."
      ]
    },
    {
      "metadata": {
        "id": "r4_XDTEDZQIi",
        "colab_type": "code",
        "colab": {
          "base_uri": "https://localhost:8080/",
          "height": 204
        },
        "outputId": "ab32260e-5bcb-4f0b-a292-aa70c373ec6b"
      },
      "cell_type": "code",
      "source": [
        "dummy_ranks = pd.get_dummies(data['prestige'], prefix='prestige')\n",
        "dummy_ranks.head()"
      ],
      "execution_count": 25,
      "outputs": [
        {
          "output_type": "execute_result",
          "data": {
            "text/html": [
              "<div>\n",
              "<style scoped>\n",
              "    .dataframe tbody tr th:only-of-type {\n",
              "        vertical-align: middle;\n",
              "    }\n",
              "\n",
              "    .dataframe tbody tr th {\n",
              "        vertical-align: top;\n",
              "    }\n",
              "\n",
              "    .dataframe thead th {\n",
              "        text-align: right;\n",
              "    }\n",
              "</style>\n",
              "<table border=\"1\" class=\"dataframe\">\n",
              "  <thead>\n",
              "    <tr style=\"text-align: right;\">\n",
              "      <th></th>\n",
              "      <th>prestige_1</th>\n",
              "      <th>prestige_2</th>\n",
              "      <th>prestige_3</th>\n",
              "      <th>prestige_4</th>\n",
              "    </tr>\n",
              "  </thead>\n",
              "  <tbody>\n",
              "    <tr>\n",
              "      <th>0</th>\n",
              "      <td>0</td>\n",
              "      <td>0</td>\n",
              "      <td>1</td>\n",
              "      <td>0</td>\n",
              "    </tr>\n",
              "    <tr>\n",
              "      <th>1</th>\n",
              "      <td>0</td>\n",
              "      <td>0</td>\n",
              "      <td>1</td>\n",
              "      <td>0</td>\n",
              "    </tr>\n",
              "    <tr>\n",
              "      <th>2</th>\n",
              "      <td>1</td>\n",
              "      <td>0</td>\n",
              "      <td>0</td>\n",
              "      <td>0</td>\n",
              "    </tr>\n",
              "    <tr>\n",
              "      <th>3</th>\n",
              "      <td>0</td>\n",
              "      <td>0</td>\n",
              "      <td>0</td>\n",
              "      <td>1</td>\n",
              "    </tr>\n",
              "    <tr>\n",
              "      <th>4</th>\n",
              "      <td>0</td>\n",
              "      <td>0</td>\n",
              "      <td>0</td>\n",
              "      <td>1</td>\n",
              "    </tr>\n",
              "  </tbody>\n",
              "</table>\n",
              "</div>"
            ],
            "text/plain": [
              "   prestige_1  prestige_2  prestige_3  prestige_4\n",
              "0           0           0           1           0\n",
              "1           0           0           1           0\n",
              "2           1           0           0           0\n",
              "3           0           0           0           1\n",
              "4           0           0           0           1"
            ]
          },
          "metadata": {
            "tags": []
          },
          "execution_count": 25
        }
      ]
    },
    {
      "metadata": {
        "id": "d52c9htQZkmC",
        "colab_type": "code",
        "colab": {
          "base_uri": "https://localhost:8080/",
          "height": 204
        },
        "outputId": "8bd98146-90d1-4f79-8605-d7f14da0eddf"
      },
      "cell_type": "code",
      "source": [
        "# create a clean data frame for the regression\n",
        "cols_to_keep = ['admit', 'gre', 'gpa']\n",
        "data_dummies = data[cols_to_keep].join(dummy_ranks.loc[:, 'prestige_2':])\n",
        "data_dummies.head()"
      ],
      "execution_count": 26,
      "outputs": [
        {
          "output_type": "execute_result",
          "data": {
            "text/html": [
              "<div>\n",
              "<style scoped>\n",
              "    .dataframe tbody tr th:only-of-type {\n",
              "        vertical-align: middle;\n",
              "    }\n",
              "\n",
              "    .dataframe tbody tr th {\n",
              "        vertical-align: top;\n",
              "    }\n",
              "\n",
              "    .dataframe thead th {\n",
              "        text-align: right;\n",
              "    }\n",
              "</style>\n",
              "<table border=\"1\" class=\"dataframe\">\n",
              "  <thead>\n",
              "    <tr style=\"text-align: right;\">\n",
              "      <th></th>\n",
              "      <th>admit</th>\n",
              "      <th>gre</th>\n",
              "      <th>gpa</th>\n",
              "      <th>prestige_2</th>\n",
              "      <th>prestige_3</th>\n",
              "      <th>prestige_4</th>\n",
              "    </tr>\n",
              "  </thead>\n",
              "  <tbody>\n",
              "    <tr>\n",
              "      <th>0</th>\n",
              "      <td>0</td>\n",
              "      <td>380</td>\n",
              "      <td>3.61</td>\n",
              "      <td>0</td>\n",
              "      <td>1</td>\n",
              "      <td>0</td>\n",
              "    </tr>\n",
              "    <tr>\n",
              "      <th>1</th>\n",
              "      <td>1</td>\n",
              "      <td>660</td>\n",
              "      <td>3.67</td>\n",
              "      <td>0</td>\n",
              "      <td>1</td>\n",
              "      <td>0</td>\n",
              "    </tr>\n",
              "    <tr>\n",
              "      <th>2</th>\n",
              "      <td>1</td>\n",
              "      <td>800</td>\n",
              "      <td>4.00</td>\n",
              "      <td>0</td>\n",
              "      <td>0</td>\n",
              "      <td>0</td>\n",
              "    </tr>\n",
              "    <tr>\n",
              "      <th>3</th>\n",
              "      <td>1</td>\n",
              "      <td>640</td>\n",
              "      <td>3.19</td>\n",
              "      <td>0</td>\n",
              "      <td>0</td>\n",
              "      <td>1</td>\n",
              "    </tr>\n",
              "    <tr>\n",
              "      <th>4</th>\n",
              "      <td>0</td>\n",
              "      <td>520</td>\n",
              "      <td>2.93</td>\n",
              "      <td>0</td>\n",
              "      <td>0</td>\n",
              "      <td>1</td>\n",
              "    </tr>\n",
              "  </tbody>\n",
              "</table>\n",
              "</div>"
            ],
            "text/plain": [
              "   admit  gre   gpa  prestige_2  prestige_3  prestige_4\n",
              "0      0  380  3.61           0           1           0\n",
              "1      1  660  3.67           0           1           0\n",
              "2      1  800  4.00           0           0           0\n",
              "3      1  640  3.19           0           0           1\n",
              "4      0  520  2.93           0           0           1"
            ]
          },
          "metadata": {
            "tags": []
          },
          "execution_count": 26
        }
      ]
    },
    {
      "metadata": {
        "id": "874oJhJaaG9_",
        "colab_type": "text"
      },
      "cell_type": "markdown",
      "source": [
        "Agregar manualmente la interseccion"
      ]
    },
    {
      "metadata": {
        "id": "L5zHvh4HaK0e",
        "colab_type": "code",
        "colab": {}
      },
      "cell_type": "code",
      "source": [
        "data_dummies['intercept'] = 1.0"
      ],
      "execution_count": 0,
      "outputs": []
    },
    {
      "metadata": {
        "id": "Fx4g7nLHacT1",
        "colab_type": "text"
      },
      "cell_type": "markdown",
      "source": [
        "# Performing the regression\n",
        "\n",
        "Generar la regresión es bastante simple. Especificamos la columna que contiene la variable que está intentando predecir seguida de las columnas que el modelo debe usar para hacer la predicción.\n",
        "\n",
        "En nuestro caso, predeciremos la columna de admisión utilizando gre, gpa y las variables ficticias de prestigio prestige_2, prestige_3 y prestige_4. \n",
        "\n",
        "Vamos a tratar prestige_1 como nuestra línea de base y lo excluiremos de nuestro ajuste. \n",
        "\n",
        "[No entiendo porque excluimos prestige_1]Esto se hace para prevenir la multicolinealidad, o la captura de variables ficticias causada por la inclusión de una variable ficticia para cada categoría."
      ]
    },
    {
      "metadata": {
        "id": "Uue6HRlgabhu",
        "colab_type": "code",
        "colab": {
          "base_uri": "https://localhost:8080/",
          "height": 68
        },
        "outputId": "58745032-57e7-4f81-f94b-1c48e4cadf1f"
      },
      "cell_type": "code",
      "source": [
        "train_cols = data_dummies.columns[1:]\n",
        "# Index([gre, gpa, prestige_2, prestige_3, prestige_4], dtype=object)\n",
        "\n",
        "logit = sm.Logit(data_dummies['admit'], data_dummies[train_cols])\n",
        "\n",
        "# fit the model\n",
        "result = logit.fit()"
      ],
      "execution_count": 28,
      "outputs": [
        {
          "output_type": "stream",
          "text": [
            "Optimization terminated successfully.\n",
            "         Current function value: 0.573147\n",
            "         Iterations 6\n"
          ],
          "name": "stdout"
        }
      ]
    },
    {
      "metadata": {
        "id": "0Uy5834ObZer",
        "colab_type": "text"
      },
      "cell_type": "markdown",
      "source": [
        "Estamos utilizando la funcion Logit de la libreria statsmodels."
      ]
    },
    {
      "metadata": {
        "id": "CjSeMDgwcBYe",
        "colab_type": "text"
      },
      "cell_type": "markdown",
      "source": [
        "# Interpreting the results\n"
      ]
    },
    {
      "metadata": {
        "id": "l9W94ydmcF9w",
        "colab_type": "code",
        "colab": {
          "base_uri": "https://localhost:8080/",
          "height": 332
        },
        "outputId": "f3a2f19d-b84d-45a2-f65c-98a18493b29b"
      },
      "cell_type": "code",
      "source": [
        "result.summary()"
      ],
      "execution_count": 29,
      "outputs": [
        {
          "output_type": "execute_result",
          "data": {
            "text/html": [
              "<table class=\"simpletable\">\n",
              "<caption>Logit Regression Results</caption>\n",
              "<tr>\n",
              "  <th>Dep. Variable:</th>       <td>admit</td>      <th>  No. Observations:  </th>  <td>   400</td>  \n",
              "</tr>\n",
              "<tr>\n",
              "  <th>Model:</th>               <td>Logit</td>      <th>  Df Residuals:      </th>  <td>   394</td>  \n",
              "</tr>\n",
              "<tr>\n",
              "  <th>Method:</th>               <td>MLE</td>       <th>  Df Model:          </th>  <td>     5</td>  \n",
              "</tr>\n",
              "<tr>\n",
              "  <th>Date:</th>          <td>Fri, 26 Oct 2018</td> <th>  Pseudo R-squ.:     </th>  <td>0.08292</td> \n",
              "</tr>\n",
              "<tr>\n",
              "  <th>Time:</th>              <td>12:54:08</td>     <th>  Log-Likelihood:    </th> <td> -229.26</td> \n",
              "</tr>\n",
              "<tr>\n",
              "  <th>converged:</th>           <td>True</td>       <th>  LL-Null:           </th> <td> -249.99</td> \n",
              "</tr>\n",
              "<tr>\n",
              "  <th> </th>                      <td> </td>        <th>  LLR p-value:       </th> <td>7.578e-08</td>\n",
              "</tr>\n",
              "</table>\n",
              "<table class=\"simpletable\">\n",
              "<tr>\n",
              "       <td></td>         <th>coef</th>     <th>std err</th>      <th>z</th>      <th>P>|z|</th>  <th>[0.025</th>    <th>0.975]</th>  \n",
              "</tr>\n",
              "<tr>\n",
              "  <th>gre</th>        <td>    0.0023</td> <td>    0.001</td> <td>    2.070</td> <td> 0.038</td> <td>    0.000</td> <td>    0.004</td>\n",
              "</tr>\n",
              "<tr>\n",
              "  <th>gpa</th>        <td>    0.8040</td> <td>    0.332</td> <td>    2.423</td> <td> 0.015</td> <td>    0.154</td> <td>    1.454</td>\n",
              "</tr>\n",
              "<tr>\n",
              "  <th>prestige_2</th> <td>   -0.6754</td> <td>    0.316</td> <td>   -2.134</td> <td> 0.033</td> <td>   -1.296</td> <td>   -0.055</td>\n",
              "</tr>\n",
              "<tr>\n",
              "  <th>prestige_3</th> <td>   -1.3402</td> <td>    0.345</td> <td>   -3.881</td> <td> 0.000</td> <td>   -2.017</td> <td>   -0.663</td>\n",
              "</tr>\n",
              "<tr>\n",
              "  <th>prestige_4</th> <td>   -1.5515</td> <td>    0.418</td> <td>   -3.713</td> <td> 0.000</td> <td>   -2.370</td> <td>   -0.733</td>\n",
              "</tr>\n",
              "<tr>\n",
              "  <th>intercept</th>  <td>   -3.9900</td> <td>    1.140</td> <td>   -3.500</td> <td> 0.000</td> <td>   -6.224</td> <td>   -1.756</td>\n",
              "</tr>\n",
              "</table>"
            ],
            "text/plain": [
              "<class 'statsmodels.iolib.summary.Summary'>\n",
              "\"\"\"\n",
              "                           Logit Regression Results                           \n",
              "==============================================================================\n",
              "Dep. Variable:                  admit   No. Observations:                  400\n",
              "Model:                          Logit   Df Residuals:                      394\n",
              "Method:                           MLE   Df Model:                            5\n",
              "Date:                Fri, 26 Oct 2018   Pseudo R-squ.:                 0.08292\n",
              "Time:                        12:54:08   Log-Likelihood:                -229.26\n",
              "converged:                       True   LL-Null:                       -249.99\n",
              "                                        LLR p-value:                 7.578e-08\n",
              "==============================================================================\n",
              "                 coef    std err          z      P>|z|      [0.025      0.975]\n",
              "------------------------------------------------------------------------------\n",
              "gre            0.0023      0.001      2.070      0.038       0.000       0.004\n",
              "gpa            0.8040      0.332      2.423      0.015       0.154       1.454\n",
              "prestige_2    -0.6754      0.316     -2.134      0.033      -1.296      -0.055\n",
              "prestige_3    -1.3402      0.345     -3.881      0.000      -2.017      -0.663\n",
              "prestige_4    -1.5515      0.418     -3.713      0.000      -2.370      -0.733\n",
              "intercept     -3.9900      1.140     -3.500      0.000      -6.224      -1.756\n",
              "==============================================================================\n",
              "\"\"\""
            ]
          },
          "metadata": {
            "tags": []
          },
          "execution_count": 29
        }
      ]
    },
    {
      "metadata": {
        "id": "R42T7ev2cjhH",
        "colab_type": "code",
        "colab": {
          "base_uri": "https://localhost:8080/",
          "height": 235
        },
        "outputId": "b47b4a06-29b8-4486-e58b-081d190e4845"
      },
      "cell_type": "code",
      "source": [
        "result.conf_int()"
      ],
      "execution_count": 30,
      "outputs": [
        {
          "output_type": "execute_result",
          "data": {
            "text/html": [
              "<div>\n",
              "<style scoped>\n",
              "    .dataframe tbody tr th:only-of-type {\n",
              "        vertical-align: middle;\n",
              "    }\n",
              "\n",
              "    .dataframe tbody tr th {\n",
              "        vertical-align: top;\n",
              "    }\n",
              "\n",
              "    .dataframe thead th {\n",
              "        text-align: right;\n",
              "    }\n",
              "</style>\n",
              "<table border=\"1\" class=\"dataframe\">\n",
              "  <thead>\n",
              "    <tr style=\"text-align: right;\">\n",
              "      <th></th>\n",
              "      <th>0</th>\n",
              "      <th>1</th>\n",
              "    </tr>\n",
              "  </thead>\n",
              "  <tbody>\n",
              "    <tr>\n",
              "      <th>gre</th>\n",
              "      <td>0.000120</td>\n",
              "      <td>0.004409</td>\n",
              "    </tr>\n",
              "    <tr>\n",
              "      <th>gpa</th>\n",
              "      <td>0.153684</td>\n",
              "      <td>1.454391</td>\n",
              "    </tr>\n",
              "    <tr>\n",
              "      <th>prestige_2</th>\n",
              "      <td>-1.295751</td>\n",
              "      <td>-0.055135</td>\n",
              "    </tr>\n",
              "    <tr>\n",
              "      <th>prestige_3</th>\n",
              "      <td>-2.016992</td>\n",
              "      <td>-0.663416</td>\n",
              "    </tr>\n",
              "    <tr>\n",
              "      <th>prestige_4</th>\n",
              "      <td>-2.370399</td>\n",
              "      <td>-0.732529</td>\n",
              "    </tr>\n",
              "    <tr>\n",
              "      <th>intercept</th>\n",
              "      <td>-6.224242</td>\n",
              "      <td>-1.755716</td>\n",
              "    </tr>\n",
              "  </tbody>\n",
              "</table>\n",
              "</div>"
            ],
            "text/plain": [
              "                   0         1\n",
              "gre         0.000120  0.004409\n",
              "gpa         0.153684  1.454391\n",
              "prestige_2 -1.295751 -0.055135\n",
              "prestige_3 -2.016992 -0.663416\n",
              "prestige_4 -2.370399 -0.732529\n",
              "intercept  -6.224242 -1.755716"
            ]
          },
          "metadata": {
            "tags": []
          },
          "execution_count": 30
        }
      ]
    },
    {
      "metadata": {
        "id": "Lz3ueLPBdL_n",
        "colab_type": "text"
      },
      "cell_type": "markdown",
      "source": [
        "# Odds ratio\n",
        "\n",
        "Excelente articulo explicando que son los odds: http://networkianos.com/odd-ratio-que-es-como-se-interpreta/\n",
        "\n"
      ]
    },
    {
      "metadata": {
        "id": "-nqqmEIedOZq",
        "colab_type": "code",
        "colab": {
          "base_uri": "https://localhost:8080/",
          "height": 136
        },
        "outputId": "f8face77-2b3f-4446-8c6f-257951a9c8b8"
      },
      "cell_type": "code",
      "source": [
        "np.exp(result.params)"
      ],
      "execution_count": 31,
      "outputs": [
        {
          "output_type": "execute_result",
          "data": {
            "text/plain": [
              "gre           1.002267\n",
              "gpa           2.234545\n",
              "prestige_2    0.508931\n",
              "prestige_3    0.261792\n",
              "prestige_4    0.211938\n",
              "intercept     0.018500\n",
              "dtype: float64"
            ]
          },
          "metadata": {
            "tags": []
          },
          "execution_count": 31
        }
      ]
    }
  ]
}